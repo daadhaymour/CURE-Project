{
 "cells": [
  {
   "cell_type": "markdown",
   "id": "4610108e",
   "metadata": {},
   "source": [
    "Note: The outputs for the graphs and confusion matrix vary each time the code is run. This is because each time the code is run, a different sample of the data is chosen. "
   ]
  },
  {
   "cell_type": "markdown",
   "id": "992fbbf2",
   "metadata": {},
   "source": [
    "## Task1"
   ]
  },
  {
   "cell_type": "code",
   "execution_count": 1,
   "id": "8ad4228f",
   "metadata": {},
   "outputs": [
    {
     "data": {
      "text/plain": [
       "(    Inflation (% per year)  GDP (% per year)  \\\n",
       " 93                8.300000          4.500000   \n",
       " 67                8.100000         -1.200000   \n",
       " 50                0.000000          0.000000   \n",
       " 13                2.946667          2.354238   \n",
       " 83               14.000000          1.200000   \n",
       " ..                     ...               ...   \n",
       " 18                2.333143         13.851204   \n",
       " 62               14.400000         -0.600000   \n",
       " 89               19.400000         -2.900000   \n",
       " 75               13.000000          1.890000   \n",
       " 57                8.700000         -0.300000   \n",
       " \n",
       "     Current Account Balance (% of GDP)  \n",
       " 93                           -1.500000  \n",
       " 67                            4.300000  \n",
       " 50                          -67.855364  \n",
       " 13                           -2.570735  \n",
       " 83                           -4.500000  \n",
       " ..                                 ...  \n",
       " 18                          -12.600000  \n",
       " 62                           -3.000000  \n",
       " 89                           -2.200000  \n",
       " 75                           -0.700000  \n",
       " 57                            4.200000  \n",
       " \n",
       " [75 rows x 3 columns],\n",
       "     Inflation (% per year)  GDP (% per year)  \\\n",
       " 86                8.800000          1.400000   \n",
       " 3                14.985660          3.200000   \n",
       " 35                4.209456          5.308595   \n",
       " 73                2.800000          0.500000   \n",
       " 30                6.077412          2.597644   \n",
       " 17                6.687746          7.239693   \n",
       " 81               10.700000          2.700000   \n",
       " 1                13.900000          4.600000   \n",
       " 28                5.800000          7.599235   \n",
       " 64               13.800000          1.000000   \n",
       " 63               20.200000         19.500000   \n",
       " 31                6.990000          3.219628   \n",
       " 94                6.200000          8.810000   \n",
       " 78                7.200000         -0.400000   \n",
       " 23                5.344960          5.233703   \n",
       " 69                9.300000          2.700000   \n",
       " 53                8.752562         -5.308168   \n",
       " 59                5.900000          1.000000   \n",
       " 47                5.000000          1.800000   \n",
       " 96                0.000000         21.600000   \n",
       " 99                8.100000          6.690000   \n",
       " 6                10.000000          6.200000   \n",
       " 65               11.600000         -0.200000   \n",
       " 84                6.700000          3.230000   \n",
       " 44                4.174891         10.500000   \n",
       " \n",
       "     Current Account Balance (% of GDP)  \n",
       " 86                           -0.400000  \n",
       " 3                           -43.700000  \n",
       " 35                           -1.677211  \n",
       " 73                            9.800000  \n",
       " 30                          -21.920417  \n",
       " 17                          -16.570821  \n",
       " 81                           -1.600000  \n",
       " 1                            -4.119183  \n",
       " 28                           19.332210  \n",
       " 64                           -9.300000  \n",
       " 63                            5.000000  \n",
       " 31                           -0.262722  \n",
       " 94                           14.600000  \n",
       " 78                           -3.900000  \n",
       " 23                            0.960518  \n",
       " 69                           -9.700000  \n",
       " 53                          -13.556924  \n",
       " 59                           -2.100000  \n",
       " 47                            0.000000  \n",
       " 96                            0.000000  \n",
       " 99                           -1.300000  \n",
       " 6                            -0.600000  \n",
       " 65                            4.400000  \n",
       " 84                           -6.000000  \n",
       " 44                          -13.871818  ,\n",
       " 93    Europe\n",
       " 67    Europe\n",
       " 50      Asia\n",
       " 13      Asia\n",
       " 83    Europe\n",
       "        ...  \n",
       " 18      Asia\n",
       " 62    Europe\n",
       " 89    Europe\n",
       " 75    Europe\n",
       " 57    Europe\n",
       " Name: Category, Length: 75, dtype: object,\n",
       " 86    Europe\n",
       " 3       Asia\n",
       " 35      Asia\n",
       " 73    Europe\n",
       " 30      Asia\n",
       " 17      Asia\n",
       " 81    Europe\n",
       " 1       Asia\n",
       " 28      Asia\n",
       " 64    Europe\n",
       " 63    Europe\n",
       " 31      Asia\n",
       " 94    Europe\n",
       " 78    Europe\n",
       " 23      Asia\n",
       " 69    Europe\n",
       " 53      Asia\n",
       " 59    Europe\n",
       " 47      Asia\n",
       " 96    Europe\n",
       " 99    Europe\n",
       " 6       Asia\n",
       " 65    Europe\n",
       " 84    Europe\n",
       " 44      Asia\n",
       " Name: Category, dtype: object)"
      ]
     },
     "execution_count": 1,
     "metadata": {},
     "output_type": "execute_result"
    }
   ],
   "source": [
    "import numpy as np\n",
    "\n",
    "import pandas as pd\n",
    "\n",
    "from pandas import Series, DataFrame\n",
    "\n",
    "from sklearn.model_selection import train_test_split\n",
    "\n",
    "from sklearn import preprocessing\n",
    "\n",
    " \n",
    "\n",
    "df = DataFrame()\n",
    "\n",
    "df = pd.read_excel(r\"C:\\Users\\useracc\\ENDG 319\\CURE4.xlsx\")\n",
    "\n",
    " \n",
    "\n",
    "dfX = df.drop(columns = ['Category', 'Country']) # this separates the classes and attributes\n",
    "\n",
    "sy = df.Category # sy contains the class types\n",
    "\n",
    " \n",
    "\n",
    "# split into train and test set\n",
    "\n",
    "dfX_train, dfX_test, sy_train, sy_test = train_test_split(dfX,sy) # breaks down from 4 variables to 2 variables\n",
    "\n",
    " \n",
    "\n",
    "# this prints the training and testing columns that are randomized\n",
    "\n",
    "dfX_train, dfX_test, sy_train, sy_test"
   ]
  },
  {
   "cell_type": "code",
   "execution_count": 2,
   "id": "642a0b7c",
   "metadata": {},
   "outputs": [
    {
     "data": {
      "text/plain": [
       "LabelEncoder()"
      ]
     },
     "execution_count": 2,
     "metadata": {},
     "output_type": "execute_result"
    }
   ],
   "source": [
    "le = preprocessing.LabelEncoder()\n",
    "\n",
    "le"
   ]
  },
  {
   "cell_type": "code",
   "execution_count": 3,
   "id": "21d56205",
   "metadata": {},
   "outputs": [
    {
     "data": {
      "text/plain": [
       "array(['Asia', 'Europe'], dtype=object)"
      ]
     },
     "execution_count": 3,
     "metadata": {},
     "output_type": "execute_result"
    }
   ],
   "source": [
    "le = le.fit(sy_train)\n",
    "\n",
    "le.classes_ # this shows what classes the machine learning algorithm has learned using the sy_train set"
   ]
  },
  {
   "cell_type": "code",
   "execution_count": 4,
   "id": "463e5bc1",
   "metadata": {},
   "outputs": [
    {
     "data": {
      "text/plain": [
       "(93    Europe\n",
       " 67    Europe\n",
       " 50      Asia\n",
       " 13      Asia\n",
       " 83    Europe\n",
       "        ...  \n",
       " 18      Asia\n",
       " 62    Europe\n",
       " 89    Europe\n",
       " 75    Europe\n",
       " 57    Europe\n",
       " Name: Category, Length: 75, dtype: object,\n",
       " array([1, 1, 0, 0, 1, 1, 1, 0, 0, 1, 0, 0, 1, 0, 0, 0, 0, 1, 0, 1, 0, 0,\n",
       "        0, 1, 1, 0, 1, 0, 0, 0, 1, 1, 0, 0, 0, 0, 0, 0, 0, 0, 1, 1, 0, 0,\n",
       "        1, 0, 0, 1, 0, 1, 1, 1, 0, 1, 1, 1, 0, 0, 1, 0, 0, 1, 0, 0, 1, 0,\n",
       "        0, 0, 0, 0, 0, 1, 1, 1, 1]))"
      ]
     },
     "execution_count": 4,
     "metadata": {},
     "output_type": "execute_result"
    }
   ],
   "source": [
    "y_train = le.transform(sy_train)\n",
    "\n",
    "sy_train, y_train # this transforms the string values into numerical values"
   ]
  },
  {
   "cell_type": "code",
   "execution_count": 5,
   "id": "660da7c1",
   "metadata": {},
   "outputs": [
    {
     "data": {
      "text/plain": [
       "array([[  8.3       ,   4.5       ,  -1.5       ],\n",
       "       [  8.1       ,  -1.2       ,   4.3       ],\n",
       "       [  0.        ,   0.        , -67.85536388],\n",
       "       [  2.94666667,   2.35423754,  -2.57073493],\n",
       "       [ 14.        ,   1.2       ,  -4.5       ],\n",
       "       [  5.8       ,   0.7       ,  30.3       ],\n",
       "       [  8.7       ,   0.35      ,  -1.3       ],\n",
       "       [  3.68225031,  -1.62833154, -25.31436453],\n",
       "       [  6.12106004,   3.64697207,  -3.5       ],\n",
       "       [  8.5       ,   0.9       ,  13.4       ],\n",
       "       [  4.20945602,   5.30859501,  -1.67721108],\n",
       "       [ 46.36300256,  -7.82397916,   0.6190123 ],\n",
       "       [  0.        ,   0.        ,   0.        ],\n",
       "       [  6.99      ,   3.21962812,  -0.26272164],\n",
       "       [  6.34283396,   5.61319317,  -4.7       ],\n",
       "       [  5.8       ,   7.59923525,  19.33220991],\n",
       "       [ 11.9       ,  10.10834295,   3.49524197],\n",
       "       [  8.1       ,  -4.7       ,   8.8       ],\n",
       "       [ 12.2       ,   6.1       ,  -1.88515443],\n",
       "       [  8.3       ,   1.8       ,   0.6       ],\n",
       "       [  5.63880271,   4.7       ,  -1.97607404],\n",
       "       [ 22.96485015,   2.5       ,   2.63981824],\n",
       "       [  3.68225031,  -1.62833154, -25.31436453],\n",
       "       [ 13.8       ,   4.9       ,  10.3       ],\n",
       "       [ 15.1       ,  -0.6       ,  -6.1       ],\n",
       "       [  3.15695794,   8.01790626,  11.95961302],\n",
       "       [  8.1       ,  -1.65      ,   5.        ],\n",
       "       [  5.50847458,  -4.17390725,  -6.22472403],\n",
       "       [ 11.4       ,   5.7       ,   2.81205382],\n",
       "       [ 22.96485015,   2.5       ,   2.63981824],\n",
       "       [ 14.2       ,   1.1       ,  -6.7       ],\n",
       "       [ 10.3       ,   1.5       ,  -3.5       ],\n",
       "       [  1.1       ,   2.6       ,  -7.9       ],\n",
       "       [ 10.2       ,  -1.        ,  24.56027006],\n",
       "       [ 18.38922156,   2.        ,  -4.41102227],\n",
       "       [  3.31951917,  -0.9       ,  -0.54488462],\n",
       "       [  2.        ,   2.99959942,   1.78270431],\n",
       "       [  6.2       ,   7.09982878, -34.3241965 ],\n",
       "       [  4.3       ,  20.01496313,  32.56134765],\n",
       "       [ 13.82474071,   0.        ,  -4.06260402],\n",
       "       [  8.6       ,  -1.2       ,   0.7       ],\n",
       "       [  6.1       ,   3.9       ,  -5.5       ],\n",
       "       [  6.12106004,   3.64697207,  -3.5       ],\n",
       "       [  8.5198852 ,  -2.23226653,   4.5891936 ],\n",
       "       [  5.3       ,   0.        ,   4.35      ],\n",
       "       [  5.08788761,   2.61267219,  13.31715239],\n",
       "       [  4.2       ,   8.        ,   6.        ],\n",
       "       [  0.        ,   9.2       ,   0.        ],\n",
       "       [  5.02035088,   1.95871666, -17.28614901],\n",
       "       [ 12.1       ,   1.5       ,  -8.3       ],\n",
       "       [ 17.2       ,  -0.1       ,  -6.4       ],\n",
       "       [ 12.        ,   1.7       ,  -6.9       ],\n",
       "       [ 13.92290932,   6.33175292,   3.3       ],\n",
       "       [ 28.6       ,  -2.2       , -13.1       ],\n",
       "       [ 18.9       ,   0.7       ,  -5.1       ],\n",
       "       [  9.1       ,   0.6       ,  -5.6       ],\n",
       "       [  3.37869863,   8.69436043,  -4.04616302],\n",
       "       [  5.25140963,   3.17547081, -13.35373332],\n",
       "       [ 14.5       ,  -2.4       ,  -8.2       ],\n",
       "       [ 15.2       ,   5.        ,   2.23343538],\n",
       "       [  5.34495981,   5.23370299,   0.96051849],\n",
       "       [ 15.2       ,   6.1       ,   4.2       ],\n",
       "       [  3.15695794,   8.01790626,  11.95961302],\n",
       "       [ 18.38922156,   2.        ,  -4.41102227],\n",
       "       [ 13.        ,   6.9       , -13.3       ],\n",
       "       [  1.9       ,  -3.50704115, -15.8       ],\n",
       "       [  6.07741228,   2.59764413, -21.92041733],\n",
       "       [  3.37869863,   8.69436043,  -4.04616302],\n",
       "       [  8.6       ,  12.62483771,  29.99705587],\n",
       "       [  1.04328524,   2.8       ,   0.        ],\n",
       "       [  2.33314338,  13.85120425, -12.6       ],\n",
       "       [ 14.4       ,  -0.6       ,  -3.        ],\n",
       "       [ 19.4       ,  -2.9       ,  -2.2       ],\n",
       "       [ 13.        ,   1.89      ,  -0.7       ],\n",
       "       [  8.7       ,  -0.3       ,   4.2       ]])"
      ]
     },
     "execution_count": 5,
     "metadata": {},
     "output_type": "execute_result"
    }
   ],
   "source": [
    "dfX_train.to_numpy()"
   ]
  },
  {
   "cell_type": "code",
   "execution_count": 6,
   "id": "aaa6ac81",
   "metadata": {},
   "outputs": [],
   "source": [
    "nl = preprocessing.MinMaxScaler()"
   ]
  },
  {
   "cell_type": "code",
   "execution_count": 7,
   "id": "0cfdb10e",
   "metadata": {},
   "outputs": [],
   "source": [
    "nl = nl.fit(dfX_train.to_numpy())"
   ]
  },
  {
   "cell_type": "code",
   "execution_count": 8,
   "id": "d8ce0014",
   "metadata": {},
   "outputs": [
    {
     "data": {
      "text/plain": [
       "array([[0.17902206, 0.44268848, 0.66080001],\n",
       "       [0.17470827, 0.23793933, 0.71855932],\n",
       "       [0.        , 0.28104441, 0.        ],\n",
       "       [0.06355642, 0.36561075, 0.65013709],\n",
       "       [0.30196491, 0.3241495 , 0.6309245 ],\n",
       "       [0.12509975, 0.30618905, 0.97748037],\n",
       "       [0.18764962, 0.29361673, 0.66279171],\n",
       "       [0.07942217, 0.22255327, 0.42364462],\n",
       "       [0.13202467, 0.41204695, 0.64088301],\n",
       "       [0.18333584, 0.31337323, 0.80918169],\n",
       "       [0.09079343, 0.47173395, 0.65903525],\n",
       "       [1.        , 0.        , 0.6819022 ],\n",
       "       [0.        , 0.28104441, 0.67573776],\n",
       "       [0.15076677, 0.39669637, 0.67312145],\n",
       "       [0.13680809, 0.48267539, 0.6289328 ],\n",
       "       [0.12509975, 0.55401582, 0.86825761],\n",
       "       [0.25667018, 0.64414524, 0.71054513],\n",
       "       [0.17470827, 0.11221616, 0.76337258],\n",
       "       [0.26314085, 0.50016193, 0.65696445],\n",
       "       [0.17902206, 0.34570204, 0.68171286],\n",
       "       [0.1216229 , 0.44987267, 0.65605902],\n",
       "       [0.49532707, 0.37084667, 0.7020264 ],\n",
       "       [0.07942217, 0.22255327, 0.42364462],\n",
       "       [0.29765113, 0.45705685, 0.77831033],\n",
       "       [0.32569073, 0.25949187, 0.6149909 ],\n",
       "       [0.06809218, 0.56905486, 0.79483759],\n",
       "       [0.17470827, 0.22177492, 0.72553027],\n",
       "       [0.11881186, 0.13111389, 0.61374884],\n",
       "       [0.24588571, 0.48579357, 0.7037416 ],\n",
       "       [0.49532707, 0.37084667, 0.7020264 ],\n",
       "       [0.3062787 , 0.32055741, 0.6090158 ],\n",
       "       [0.2221599 , 0.33492577, 0.64088301],\n",
       "       [0.02372581, 0.37443876, 0.5970656 ],\n",
       "       [0.22000301, 0.24512351, 0.92032125],\n",
       "       [0.39663569, 0.35288622, 0.63181059],\n",
       "       [0.07159845, 0.2487156 , 0.67031153],\n",
       "       [0.04313784, 0.38879274, 0.69349083],\n",
       "       [0.13372732, 0.53607669, 0.33392019],\n",
       "       [0.09274637, 1.        , 1.        ],\n",
       "       [0.29818476, 0.28104441, 0.63528031],\n",
       "       [0.18549273, 0.23793933, 0.68270871],\n",
       "       [0.13157043, 0.42113594, 0.620966  ],\n",
       "       [0.13202467, 0.41204695, 0.64088301],\n",
       "       [0.18376474, 0.20085938, 0.72143925],\n",
       "       [0.11431529, 0.28104441, 0.71905724],\n",
       "       [0.10974025, 0.37489396, 0.80835665],\n",
       "       [0.09058947, 0.56841165, 0.73548877],\n",
       "       [0.        , 0.61151674, 0.67573776],\n",
       "       [0.10828356, 0.35140329, 0.50359362],\n",
       "       [0.26098396, 0.33492577, 0.5930822 ],\n",
       "       [0.37098546, 0.27745232, 0.61200335],\n",
       "       [0.25882707, 0.34210995, 0.6070241 ],\n",
       "       [0.30030215, 0.50848671, 0.70860082],\n",
       "       [0.61687118, 0.20201842, 0.54528139],\n",
       "       [0.40765263, 0.30618905, 0.6249494 ],\n",
       "       [0.19627719, 0.30259695, 0.61997015],\n",
       "       [0.07287489, 0.59335371, 0.63544404],\n",
       "       [0.11326725, 0.3951102 , 0.54275458],\n",
       "       [0.31274937, 0.19483424, 0.59407805],\n",
       "       [0.32784762, 0.46064894, 0.69797943],\n",
       "       [0.11528502, 0.46904376, 0.68530309],\n",
       "       [0.32784762, 0.50016193, 0.71756347],\n",
       "       [0.06809218, 0.56905486, 0.79483759],\n",
       "       [0.39663569, 0.35288622, 0.63181059],\n",
       "       [0.28039599, 0.52889866, 0.54328969],\n",
       "       [0.04098095, 0.15506832, 0.51839343],\n",
       "       [0.13108323, 0.37435414, 0.45744325],\n",
       "       [0.07287489, 0.59335371, 0.63544404],\n",
       "       [0.18549273, 0.73454001, 0.9744635 ],\n",
       "       [0.02250254, 0.38162295, 0.67573776],\n",
       "       [0.05032339, 0.7785922 , 0.55026064],\n",
       "       [0.31059248, 0.25949187, 0.64586226],\n",
       "       [0.41843709, 0.17687379, 0.65382906],\n",
       "       [0.28039599, 0.34893492, 0.66876681],\n",
       "       [0.18764962, 0.27026814, 0.71756347]])"
      ]
     },
     "execution_count": 8,
     "metadata": {},
     "output_type": "execute_result"
    }
   ],
   "source": [
    "X_train = nl.transform(dfX_train.to_numpy())\n",
    "\n",
    "X_train"
   ]
  },
  {
   "cell_type": "markdown",
   "id": "b514a3e1",
   "metadata": {},
   "source": [
    "## Task 2"
   ]
  },
  {
   "cell_type": "markdown",
   "id": "2e21d03e",
   "metadata": {},
   "source": [
    "### a)"
   ]
  },
  {
   "cell_type": "code",
   "execution_count": 9,
   "id": "79170ed9",
   "metadata": {},
   "outputs": [
    {
     "data": {
      "text/plain": [
       "(86    Europe\n",
       " 3       Asia\n",
       " 35      Asia\n",
       " 73    Europe\n",
       " 30      Asia\n",
       " 17      Asia\n",
       " 81    Europe\n",
       " 1       Asia\n",
       " 28      Asia\n",
       " 64    Europe\n",
       " 63    Europe\n",
       " 31      Asia\n",
       " 94    Europe\n",
       " 78    Europe\n",
       " 23      Asia\n",
       " 69    Europe\n",
       " 53      Asia\n",
       " 59    Europe\n",
       " 47      Asia\n",
       " 96    Europe\n",
       " 99    Europe\n",
       " 6       Asia\n",
       " 65    Europe\n",
       " 84    Europe\n",
       " 44      Asia\n",
       " Name: Category, dtype: object,\n",
       " array([1, 0, 0, 1, 0, 0, 1, 0, 0, 1, 1, 0, 1, 1, 0, 1, 0, 1, 0, 1, 1, 0,\n",
       "        1, 1, 0]))"
      ]
     },
     "execution_count": 9,
     "metadata": {},
     "output_type": "execute_result"
    }
   ],
   "source": [
    "# preprocess sy_test\n",
    "\n",
    "y_test = le.transform(sy_test.to_numpy())  # transform data to numerical values\n",
    "\n",
    "sy_test, y_test"
   ]
  },
  {
   "cell_type": "code",
   "execution_count": 10,
   "id": "37b6cfa0",
   "metadata": {},
   "outputs": [
    {
     "data": {
      "text/plain": [
       "(    Inflation (% per year)  GDP (% per year)  \\\n",
       " 86                8.800000          1.400000   \n",
       " 3                14.985660          3.200000   \n",
       " 35                4.209456          5.308595   \n",
       " 73                2.800000          0.500000   \n",
       " 30                6.077412          2.597644   \n",
       " 17                6.687746          7.239693   \n",
       " 81               10.700000          2.700000   \n",
       " 1                13.900000          4.600000   \n",
       " 28                5.800000          7.599235   \n",
       " 64               13.800000          1.000000   \n",
       " 63               20.200000         19.500000   \n",
       " 31                6.990000          3.219628   \n",
       " 94                6.200000          8.810000   \n",
       " 78                7.200000         -0.400000   \n",
       " 23                5.344960          5.233703   \n",
       " 69                9.300000          2.700000   \n",
       " 53                8.752562         -5.308168   \n",
       " 59                5.900000          1.000000   \n",
       " 47                5.000000          1.800000   \n",
       " 96                0.000000         21.600000   \n",
       " 99                8.100000          6.690000   \n",
       " 6                10.000000          6.200000   \n",
       " 65               11.600000         -0.200000   \n",
       " 84                6.700000          3.230000   \n",
       " 44                4.174891         10.500000   \n",
       " \n",
       "     Current Account Balance (% of GDP)  \n",
       " 86                           -0.400000  \n",
       " 3                           -43.700000  \n",
       " 35                           -1.677211  \n",
       " 73                            9.800000  \n",
       " 30                          -21.920417  \n",
       " 17                          -16.570821  \n",
       " 81                           -1.600000  \n",
       " 1                            -4.119183  \n",
       " 28                           19.332210  \n",
       " 64                           -9.300000  \n",
       " 63                            5.000000  \n",
       " 31                           -0.262722  \n",
       " 94                           14.600000  \n",
       " 78                           -3.900000  \n",
       " 23                            0.960518  \n",
       " 69                           -9.700000  \n",
       " 53                          -13.556924  \n",
       " 59                           -2.100000  \n",
       " 47                            0.000000  \n",
       " 96                            0.000000  \n",
       " 99                           -1.300000  \n",
       " 6                            -0.600000  \n",
       " 65                            4.400000  \n",
       " 84                           -6.000000  \n",
       " 44                          -13.871818  ,\n",
       " array([[0.18980652, 0.33133368, 0.67175436],\n",
       "        [0.32322453, 0.39599131, 0.24055123],\n",
       "        [0.09079343, 0.47173395, 0.65903525],\n",
       "        [0.06039298, 0.29900486, 0.77333108],\n",
       "        [0.13108323, 0.37435414, 0.45744325],\n",
       "        [0.14424748, 0.54110075, 0.51071721],\n",
       "        [0.23078747, 0.37803086, 0.65980416],\n",
       "        [0.29980802, 0.44628057, 0.63471687],\n",
       "        [0.12509975, 0.55401582, 0.86825761],\n",
       "        [0.29765113, 0.31696532, 0.5831237 ],\n",
       "        [0.43569223, 0.98150206, 0.72553027],\n",
       "        [0.15076677, 0.39669637, 0.67312145],\n",
       "        [0.13372732, 0.59750758, 0.82113189],\n",
       "        [0.15529624, 0.26667605, 0.6368996 ],\n",
       "        [0.11528502, 0.46904376, 0.68530309],\n",
       "        [0.20059098, 0.37803086, 0.57914029],\n",
       "        [0.18878334, 0.09037023, 0.54073111],\n",
       "        [0.12725664, 0.31696532, 0.65482491],\n",
       "        [0.10784461, 0.34570204, 0.67573776],\n",
       "        [0.        , 1.05693596, 0.67573776],\n",
       "        [0.17470827, 0.52135527, 0.66279171],\n",
       "        [0.21568922, 0.50375402, 0.66976266],\n",
       "        [0.2501995 , 0.27386023, 0.71955517],\n",
       "        [0.14451178, 0.39706893, 0.61598675],\n",
       "        [0.0900479 , 0.65821391, 0.53759524]]))"
      ]
     },
     "execution_count": 10,
     "metadata": {},
     "output_type": "execute_result"
    }
   ],
   "source": [
    "# preprocess dfx_test\n",
    "\n",
    "X_test = nl.transform(dfX_test.to_numpy())\n",
    "\n",
    "dfX_test, X_test"
   ]
  },
  {
   "cell_type": "code",
   "execution_count": 11,
   "id": "cbf5826d",
   "metadata": {},
   "outputs": [],
   "source": [
    "k_amount = [1,2,3,4,5,6,7,8,9,10]  # a list containing different amounts of k possible\n",
    "\n",
    "list_test = [] # container for accuracy of knn for test dataset\n",
    "\n",
    "list_train = [] # container for accuracy of knn for train dataset"
   ]
  },
  {
   "cell_type": "code",
   "execution_count": 12,
   "id": "b61d7529",
   "metadata": {},
   "outputs": [],
   "source": [
    "for i in k_amount:  # for loop that iterates through the different amounts of k and creates a knn classifier\n",
    "\n",
    " \n",
    "\n",
    "    from sklearn.neighbors import KNeighborsClassifier\n",
    "\n",
    "    knn = KNeighborsClassifier(n_neighbors = i)\n",
    "\n",
    "    knn = knn.fit(X_train,y_train)\n",
    "\n",
    " \n",
    "\n",
    "    acc_train = knn.score(X_train, y_train)  \n",
    "\n",
    "    # print(acc_train) #if you would like to view the accuracy of each number of k alone\n",
    "\n",
    "    list_train.append(acc_train)\n",
    "\n",
    " \n",
    "\n",
    "    acc_test = knn.score(X_test, y_test)\n",
    "\n",
    "    # print(acc_test) #if you would like to view the accuracy of each number of k alone\n",
    "\n",
    "    list_test.append(acc_test)\n",
    "\n",
    " \n",
    "\n",
    "# print(list_train) # if you want to view final lists\n",
    "\n",
    "# print(list_test)\n"
   ]
  },
  {
   "cell_type": "code",
   "execution_count": 13,
   "id": "b25bc18c",
   "metadata": {},
   "outputs": [
    {
     "data": {
      "text/plain": [
       "Text(0.5, 1.0, 'Model Accuracy vs k amount (MinMaxScaler)')"
      ]
     },
     "execution_count": 13,
     "metadata": {},
     "output_type": "execute_result"
    },
    {
     "data": {
      "image/png": "[encoded data removed]",
      "text/plain": [
       "<Figure size 432x288 with 1 Axes>"
      ]
     },
     "metadata": {
      "needs_background": "light"
     },
     "output_type": "display_data"
    }
   ],
   "source": [
    "# plot a graph : accuracy of test and train data set as dependent and # of k is independent\n",
    "\n",
    "import matplotlib.pyplot as plt\n",
    "\n",
    "fig, axs = plt.subplots()\n",
    "\n",
    " \n",
    "\n",
    "axs.scatter (k_amount, list_test, c= 'r')\n",
    "\n",
    "axs.scatter (k_amount, list_train, c= 'b')\n",
    "\n",
    " \n",
    "\n",
    "axs.set_xlabel('k amount')\n",
    "\n",
    "axs.set_ylabel('Accuracy')\n",
    "\n",
    "axs.legend(['test dataset','train dataset'])\n",
    "\n",
    "plt.title(\"Model Accuracy vs k amount (MinMaxScaler)\")"
   ]
  },
  {
   "cell_type": "markdown",
   "id": "99a5ea5e",
   "metadata": {},
   "source": [
    "### b)"
   ]
  },
  {
   "cell_type": "code",
   "execution_count": 14,
   "id": "39310f2c",
   "metadata": {},
   "outputs": [
    {
     "data": {
      "text/plain": [
       "(    Inflation (% per year)  GDP (% per year)  \\\n",
       " 86                8.800000          1.400000   \n",
       " 3                14.985660          3.200000   \n",
       " 35                4.209456          5.308595   \n",
       " 73                2.800000          0.500000   \n",
       " 30                6.077412          2.597644   \n",
       " 17                6.687746          7.239693   \n",
       " 81               10.700000          2.700000   \n",
       " 1                13.900000          4.600000   \n",
       " 28                5.800000          7.599235   \n",
       " 64               13.800000          1.000000   \n",
       " 63               20.200000         19.500000   \n",
       " 31                6.990000          3.219628   \n",
       " 94                6.200000          8.810000   \n",
       " 78                7.200000         -0.400000   \n",
       " 23                5.344960          5.233703   \n",
       " 69                9.300000          2.700000   \n",
       " 53                8.752562         -5.308168   \n",
       " 59                5.900000          1.000000   \n",
       " 47                5.000000          1.800000   \n",
       " 96                0.000000         21.600000   \n",
       " 99                8.100000          6.690000   \n",
       " 6                10.000000          6.200000   \n",
       " 65               11.600000         -0.200000   \n",
       " 84                6.700000          3.230000   \n",
       " 44                4.174891         10.500000   \n",
       " \n",
       "     Current Account Balance (% of GDP)  \n",
       " 86                           -0.400000  \n",
       " 3                           -43.700000  \n",
       " 35                           -1.677211  \n",
       " 73                            9.800000  \n",
       " 30                          -21.920417  \n",
       " 17                          -16.570821  \n",
       " 81                           -1.600000  \n",
       " 1                            -4.119183  \n",
       " 28                           19.332210  \n",
       " 64                           -9.300000  \n",
       " 63                            5.000000  \n",
       " 31                           -0.262722  \n",
       " 94                           14.600000  \n",
       " 78                           -3.900000  \n",
       " 23                            0.960518  \n",
       " 69                           -9.700000  \n",
       " 53                          -13.556924  \n",
       " 59                           -2.100000  \n",
       " 47                            0.000000  \n",
       " 96                            0.000000  \n",
       " 99                           -1.300000  \n",
       " 6                            -0.600000  \n",
       " 65                            4.400000  \n",
       " 84                           -6.000000  \n",
       " 44                          -13.871818  ,\n",
       " array([[ 0.15814679, -0.60237219,  0.2860067 ],\n",
       "        [ 1.61583291, -0.28614909, -3.29377429],\n",
       "        [-0.92364118,  0.08428782,  0.18041465],\n",
       "        [-1.25578757, -0.76048373,  1.12928075],\n",
       "        [-0.48344659, -0.39197067, -1.49317069],\n",
       "        [-0.33961792,  0.42354219, -1.05089855],\n",
       "        [ 0.60589267, -0.37398884,  0.18679799],\n",
       "        [ 1.359991  , -0.0401978 , -0.02147278],\n",
       "        [-0.54882039,  0.48670634,  1.91734597],\n",
       "        [ 1.33642542, -0.67264398, -0.44979124],\n",
       "        [ 2.84462207,  2.57742671,  0.7324459 ],\n",
       "        [-0.26839007, -0.28270083,  0.29735604],\n",
       "        [-0.4545581 ,  0.69941289,  1.52611559],\n",
       "        [-0.21890237, -0.91859528, -0.00335204],\n",
       "        [-0.65605321,  0.07113083,  0.39848611],\n",
       "        [ 0.27597466, -0.37398884, -0.48286081],\n",
       "        [ 0.14696785, -1.7808597 , -0.80172784],\n",
       "        [-0.52525481, -0.67264398,  0.14546103],\n",
       "        [-0.73734497, -0.53210039,  0.31907627],\n",
       "        [-1.9156236 ,  2.94635365,  0.31907627],\n",
       "        [-0.00681222,  0.32697235,  0.21160017],\n",
       "        [ 0.44093366,  0.2408894 ,  0.26947192],\n",
       "        [ 0.81798283, -0.88345938,  0.68284155],\n",
       "        [-0.33673023, -0.28087871, -0.17696728],\n",
       "        [-0.93178664,  0.99631124, -0.8277614 ]]))"
      ]
     },
     "execution_count": 14,
     "metadata": {},
     "output_type": "execute_result"
    }
   ],
   "source": [
    "# preprocess dfX_test using StandardScaler()\n",
    "\n",
    "stand = preprocessing.StandardScaler()\n",
    "\n",
    "standfitted = stand.fit(dfX_test.to_numpy())\n",
    "\n",
    "dfX_test_p = standfitted.transform (dfX_test.to_numpy())  # transform data into numerical values\n",
    "\n",
    "dfX_test, dfX_test_p"
   ]
  },
  {
   "cell_type": "code",
   "execution_count": 15,
   "id": "024fadaa",
   "metadata": {},
   "outputs": [
    {
     "data": {
      "text/plain": [
       "(    Inflation (% per year)  GDP (% per year)  \\\n",
       " 93                8.300000          4.500000   \n",
       " 67                8.100000         -1.200000   \n",
       " 50                0.000000          0.000000   \n",
       " 13                2.946667          2.354238   \n",
       " 83               14.000000          1.200000   \n",
       " ..                     ...               ...   \n",
       " 18                2.333143         13.851204   \n",
       " 62               14.400000         -0.600000   \n",
       " 89               19.400000         -2.900000   \n",
       " 75               13.000000          1.890000   \n",
       " 57                8.700000         -0.300000   \n",
       " \n",
       "     Current Account Balance (% of GDP)  \n",
       " 93                           -1.500000  \n",
       " 67                            4.300000  \n",
       " 50                          -67.855364  \n",
       " 13                           -2.570735  \n",
       " 83                           -4.500000  \n",
       " ..                                 ...  \n",
       " 18                          -12.600000  \n",
       " 62                           -3.000000  \n",
       " 89                           -2.200000  \n",
       " 75                           -0.700000  \n",
       " 57                            4.200000  \n",
       " \n",
       " [75 rows x 3 columns],\n",
       " array([[-1.51736820e-01,  3.92435978e-01,  1.74566525e-02],\n",
       "        [-1.79148959e-01, -8.83531026e-01,  4.39841765e-01],\n",
       "        [-1.28934059e+00, -6.14906393e-01, -4.81487401e+00],\n",
       "        [-8.85468410e-01, -8.79012318e-02, -6.05196399e-02],\n",
       "        [ 6.29509144e-01, -3.46281761e-01, -2.01018406e-01],\n",
       "        [-4.94388559e-01, -4.58208691e-01,  2.33329227e+00],\n",
       "        [-9.69125421e-02, -5.36557542e-01,  3.20216564e-02],\n",
       "        [-7.84648804e-01, -9.79414694e-01, -1.71682491e+00],\n",
       "        [-4.50383847e-01,  2.01482383e-01, -1.28193386e-01],\n",
       "        [-1.24324681e-01, -4.13437919e-01,  1.10254944e+00],\n",
       "        [-7.12389623e-01,  5.73443091e-01,  4.55125203e-03],\n",
       "        [ 5.06520478e+00, -2.36633433e+00,  1.71773764e-01],\n",
       "        [-1.28934059e+00, -6.14906393e-01,  1.26694182e-01],\n",
       "        [-3.31286331e-01,  1.05819789e-01,  1.07561473e-01],\n",
       "        [-4.19987359e-01,  6.41628565e-01, -2.15583410e-01],\n",
       "        [-4.94388559e-01,  1.08621175e+00,  1.53456274e+00],\n",
       "        [ 3.41681683e-01,  1.64788520e+00,  3.81235246e-01],\n",
       "        [-1.79148959e-01, -1.66701954e+00,  7.67554352e-01],\n",
       "        [ 3.82799892e-01,  7.50602154e-01, -1.05922260e-02],\n",
       "        [-1.51736820e-01, -2.11969445e-01,  1.70389193e-01],\n",
       "        [-5.16482372e-01,  4.37206750e-01, -1.72134488e-02],\n",
       "        [ 1.85823774e+00, -5.52717428e-02,  3.18938996e-01],\n",
       "        [-7.84648804e-01, -9.79414694e-01, -1.71682491e+00],\n",
       "        [ 6.02097005e-01,  4.81977522e-01,  8.76791881e-01],\n",
       "        [ 7.80275909e-01, -7.49218709e-01, -3.17538437e-01],\n",
       "        [-8.56645742e-01,  1.17993287e+00,  9.97653232e-01],\n",
       "        [-1.79148959e-01, -9.84265263e-01,  4.90819279e-01],\n",
       "        [-5.34345236e-01, -1.54925164e+00, -3.26621467e-01],\n",
       "        [ 2.73151336e-01,  6.61060610e-01,  3.31482055e-01],\n",
       "        [ 1.85823774e+00, -5.52717428e-02,  3.18938996e-01],\n",
       "        [ 6.56921283e-01, -3.68667147e-01, -3.61233448e-01],\n",
       "        [ 1.22384571e-01, -2.79125603e-01, -1.28193386e-01],\n",
       "        [-1.13857383e+00, -3.28863567e-02, -4.48623472e-01],\n",
       "        [ 1.08678501e-01, -8.38760254e-01,  1.91529632e+00],\n",
       "        [ 1.23109890e+00, -1.67198673e-01, -1.94538600e-01],\n",
       "        [-8.34364986e-01, -8.16374868e-01,  8.70129489e-02],\n",
       "        [-1.01521920e+00,  5.65655157e-02,  2.56519658e-01],\n",
       "        [-4.39564281e-01,  9.74417685e-01, -2.37296609e+00],\n",
       "        [-6.99979602e-01,  3.86552036e+00,  2.49797496e+00],\n",
       "        [ 6.05487984e-01, -6.14906393e-01, -1.69165035e-01],\n",
       "        [-1.10618612e-01, -8.83531026e-01,  1.77671695e-01],\n",
       "        [-4.53270350e-01,  2.58123662e-01, -2.73843425e-01],\n",
       "        [-4.50383847e-01,  2.01482383e-01, -1.28193386e-01],\n",
       "        [-1.21599202e-01, -1.11460787e+00,  4.60902295e-01],\n",
       "        [-5.62918907e-01, -6.14906393e-01,  4.43483016e-01],\n",
       "        [-5.91991179e-01, -3.00496377e-02,  1.09651606e+00],\n",
       "        [-7.13685672e-01,  1.17592449e+00,  5.63644298e-01],\n",
       "        [-1.28934059e+00,  1.44454912e+00,  1.26694182e-01],\n",
       "        [-6.01247810e-01, -1.76440109e-01, -1.13216996e+00],\n",
       "        [ 3.69093823e-01, -2.79125603e-01, -4.77753479e-01],\n",
       "        [ 1.06810337e+00, -6.37291779e-01, -3.39385942e-01],\n",
       "        [ 3.55387753e-01, -2.34354831e-01, -3.75798452e-01],\n",
       "        [ 6.18943041e-01,  8.02480940e-01,  3.67016746e-01],\n",
       "        [ 2.63059530e+00, -1.10738489e+00, -8.27313572e-01],\n",
       "        [ 1.30110655e+00, -4.58208691e-01, -2.44713417e-01],\n",
       "        [-4.20882639e-02, -4.80594077e-01, -2.81125927e-01],\n",
       "        [-8.26253809e-01,  1.33135975e+00, -1.67967718e-01],\n",
       "        [-5.69578737e-01,  9.59350060e-02, -8.45791706e-01],\n",
       "        [ 6.98039492e-01, -1.15215566e+00, -4.70470977e-01],\n",
       "        [ 7.93981979e-01,  5.04362908e-01,  2.89344156e-01],\n",
       "        [-5.56756683e-01,  5.56678224e-01,  1.96643959e-01],\n",
       "        [ 7.93981979e-01,  7.50602154e-01,  4.32559263e-01],\n",
       "        [-8.56645742e-01,  1.17993287e+00,  9.97653232e-01],\n",
       "        [ 1.23109890e+00, -1.67198673e-01, -1.94538600e-01],\n",
       "        [ 4.92448449e-01,  9.29685242e-01, -8.41878576e-01],\n",
       "        [-1.02892527e+00, -1.39997109e+00, -1.02394112e+00],\n",
       "        [-4.56366238e-01, -3.34137283e-02, -1.46966064e+00],\n",
       "        [-8.26253809e-01,  1.33135975e+00, -1.67967718e-01],\n",
       "        [-1.10618612e-01,  2.21121226e+00,  2.31123036e+00],\n",
       "        [-1.14634719e+00,  1.18844153e-02,  1.26694182e-01],\n",
       "        [-9.69558339e-01,  2.48573915e+00, -7.90901063e-01],\n",
       "        [ 6.84333422e-01, -7.49218709e-01, -9.17808766e-02],\n",
       "        [ 1.36963690e+00, -1.26408259e+00, -3.35208611e-02],\n",
       "        [ 4.92448449e-01, -1.91822598e-01,  7.57166680e-02],\n",
       "        [-9.69125421e-02, -6.82062551e-01,  4.32559263e-01]]))"
      ]
     },
     "execution_count": 15,
     "metadata": {},
     "output_type": "execute_result"
    }
   ],
   "source": [
    "# preprocess dfX_train using StandardScaler()\n",
    "\n",
    "stand = preprocessing.StandardScaler()\n",
    "\n",
    "standfitted = stand.fit(dfX_train.to_numpy())\n",
    "\n",
    "dfX_train_p = standfitted.transform (dfX_train.to_numpy())  # transform data into numerical values\n",
    "\n",
    "dfX_train, dfX_train_p"
   ]
  },
  {
   "cell_type": "code",
   "execution_count": 16,
   "id": "448d84ee",
   "metadata": {},
   "outputs": [],
   "source": [
    "list_test2 = [] # container for accuracy of knn for test dataset\n",
    "\n",
    "list_train2 = [] # container for accuracy of knn for train dataset\n",
    "\n",
    " \n",
    "\n",
    "for i in k_amount:  # for loop that iterates through the different amounts of k and creates a knn classifier\n",
    "\n",
    " \n",
    "\n",
    "    from sklearn.neighbors import KNeighborsClassifier\n",
    "\n",
    "    knn = KNeighborsClassifier(n_neighbors = i)\n",
    "\n",
    "    knn = knn.fit(dfX_train_p,y_train)\n",
    "\n",
    " \n",
    "\n",
    "    acc_train2 = knn.score(dfX_train_p, y_train)  \n",
    "\n",
    "    # print(acc_train) #if you would like to view the accuracy of each number of k alone\n",
    "\n",
    "    list_train2.append(acc_train2)\n",
    "\n",
    " \n",
    "\n",
    "    acc_test2 = knn.score(dfX_test_p, y_test)\n",
    "\n",
    "    # print(acc_test) #if you would like to view the accuracy of each number of k alone\n",
    "\n",
    "    list_test2.append(acc_test2)"
   ]
  },
  {
   "cell_type": "code",
   "execution_count": 17,
   "id": "2ddc5bcc",
   "metadata": {},
   "outputs": [
    {
     "name": "stdout",
     "output_type": "stream",
     "text": [
      "[0.84, 0.76, 0.76, 0.76, 0.76, 0.76, 0.76, 0.72, 0.68, 0.68]\n"
     ]
    },
    {
     "data": {
      "image/png": "[encoded data removed]",
      "text/plain": [
       "<Figure size 432x288 with 1 Axes>"
      ]
     },
     "metadata": {
      "needs_background": "light"
     },
     "output_type": "display_data"
    }
   ],
   "source": [
    "# plot a graph : accuracy of test and train data set as dependent and # of k is independent\n",
    "\n",
    "import matplotlib.pyplot as plt\n",
    "\n",
    "fig, axs2 = plt.subplots()\n",
    "\n",
    " \n",
    "\n",
    "axs2.scatter (k_amount, list_test2, c= 'm',)\n",
    "\n",
    "axs2.scatter (k_amount, list_train2, c= 'g')\n",
    "\n",
    " \n",
    "\n",
    "axs2.set_xlabel('k amount')\n",
    "\n",
    "axs2.set_ylabel('Accuracy')\n",
    "\n",
    "axs2.legend(['test dataset','train dataset'])\n",
    "\n",
    "plt.title(\"Model Accuracy vs k amount (StandardScaler)\")\n",
    "print(list_test)"
   ]
  },
  {
   "cell_type": "markdown",
   "id": "86d9974a",
   "metadata": {},
   "source": [
    "## Task 3"
   ]
  },
  {
   "cell_type": "code",
   "execution_count": 18,
   "id": "b1901564",
   "metadata": {},
   "outputs": [
    {
     "name": "stdout",
     "output_type": "stream",
     "text": [
      "[[ 9  3]\n",
      " [10  3]]\n",
      "accuracy: 0.48\n"
     ]
    }
   ],
   "source": [
    "\n",
    "from sklearn.model_selection import train_test_split\n",
    "from sklearn.neighbors import KNeighborsClassifier\n",
    "from sklearn.metrics import confusion_matrix\n",
    "from sklearn.preprocessing import MinMaxScaler, StandardScaler\n",
    "\n",
    "dfX_train, dfX_test, sy_train, s_test = train_test_split(dfX, sy)\n",
    "\n",
    "# Choose the scaler: MinMaxScaler or StandardScaler\n",
    "scaler = StandardScaler()\n",
    "#Fitting the scaler using the training data and transforming both training and test sets\n",
    "X_train_scaled = scaler.fit_transform(dfX_train)\n",
    "X_test_scaled = scaler.transform(dfX_test)\n",
    "\n",
    "# Create a kNN classifier\n",
    "k = 4\n",
    "classifier = KNeighborsClassifier(n_neighbors=k)\n",
    "\n",
    "# Fit the classifer using the scaled training set\n",
    "classifier.fit(X_train_scaled, sy_train)\n",
    "\n",
    "#Predict the labes of the test set\n",
    "y_pred = classifier.predict(X_test_scaled)\n",
    "\n",
    "# Generate the confusion matrix\n",
    "cm = confusion_matrix(sy_test, y_pred)\n",
    "\n",
    "print(cm)\n",
    "accuracy = ((cm[0][0])+(cm[1][1]))/((cm[0][0])+(cm[0][1])+(cm[1][0])+(cm[1][1]))\n",
    "print('accuracy:', accuracy)"
   ]
  },
  {
   "cell_type": "markdown",
   "id": "1ce757e0",
   "metadata": {},
   "source": [
    "## Task 4"
   ]
  },
  {
   "cell_type": "code",
   "execution_count": 19,
   "id": "7f01f6c8",
   "metadata": {},
   "outputs": [
    {
     "data": {
      "text/plain": [
       "array([[0.22000301, 0.48579357, 0.46860092]])"
      ]
     },
     "execution_count": 19,
     "metadata": {},
     "output_type": "execute_result"
    }
   ],
   "source": [
    "new_example_rawdata = np.array([ [10.2,5.7,-20.8] ])\n",
    "X_new = nl.transform(new_example_rawdata)\n",
    "X_new"
   ]
  },
  {
   "cell_type": "code",
   "execution_count": 20,
   "id": "8b93d80b",
   "metadata": {},
   "outputs": [
    {
     "data": {
      "text/plain": [
       "array([0])"
      ]
     },
     "execution_count": 20,
     "metadata": {},
     "output_type": "execute_result"
    }
   ],
   "source": [
    "knn.predict(X_new)"
   ]
  },
  {
   "cell_type": "code",
   "execution_count": 21,
   "id": "f4bdcd04",
   "metadata": {},
   "outputs": [
    {
     "data": {
      "text/plain": [
       "array(['Asia'], dtype=object)"
      ]
     },
     "execution_count": 21,
     "metadata": {},
     "output_type": "execute_result"
    }
   ],
   "source": [
    "le.inverse_transform(knn.predict(X_new))"
   ]
  }
 ],
 "metadata": {
  "kernelspec": {
   "display_name": "Python 3 (ipykernel)",
   "language": "python",
   "name": "python3"
  },
  "language_info": {
   "codemirror_mode": {
    "name": "ipython",
    "version": 3
   },
   "file_extension": ".py",
   "mimetype": "text/x-python",
   "name": "python",
   "nbconvert_exporter": "python",
   "pygments_lexer": "ipython3",
   "version": "3.9.12"
  }
 },
 "nbformat": 4,
 "nbformat_minor": 5
}
